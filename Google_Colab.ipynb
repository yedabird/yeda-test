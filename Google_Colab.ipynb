{
  "nbformat": 4,
  "nbformat_minor": 0,
  "metadata": {
    "colab": {
      "provenance": [],
      "authorship_tag": "ABX9TyPjuyrq/NUpcOOQfNzE2Yuo",
      "include_colab_link": true
    },
    "kernelspec": {
      "name": "python3",
      "display_name": "Python 3"
    },
    "language_info": {
      "name": "python"
    }
  },
  "cells": [
    {
      "cell_type": "markdown",
      "metadata": {
        "id": "view-in-github",
        "colab_type": "text"
      },
      "source": [
        "<a href=\"https://colab.research.google.com/github/yedabird/yeda-test/blob/main/Google_Colab.ipynb\" target=\"_parent\"><img src=\"https://colab.research.google.com/assets/colab-badge.svg\" alt=\"Open In Colab\"/></a>"
      ]
    },
    {
      "cell_type": "code",
      "execution_count": null,
      "metadata": {
        "id": "YeCh-6PF7HLp"
      },
      "outputs": [],
      "source": []
    },
    {
      "cell_type": "markdown",
      "source": [
        "# This *is* **heading**"
      ],
      "metadata": {
        "id": "hV8kh5jV7X9I"
      }
    },
    {
      "cell_type": "markdown",
      "source": [
        "\n",
        "\n",
        "```\n",
        "# This is formatted as code\n",
        "for item in list:\n",
        "  print(item)\n",
        "```\n",
        "\n"
      ],
      "metadata": {
        "id": "QATYRuA_72Rv"
      }
    },
    {
      "cell_type": "code",
      "source": [],
      "metadata": {
        "id": "UGogg5d87vev"
      },
      "execution_count": null,
      "outputs": []
    },
    {
      "cell_type": "markdown",
      "source": [
        "![flower1.jpg](data:image/jpeg;base64,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)"
      ],
      "metadata": {
        "id": "P68P0sHp8Adj"
      }
    },
    {
      "cell_type": "code",
      "source": [],
      "metadata": {
        "id": "xK7Sxh9e9JwV"
      },
      "execution_count": null,
      "outputs": []
    },
    {
      "cell_type": "markdown",
      "source": [],
      "metadata": {
        "id": "01E7ODKm9leE"
      }
    },
    {
      "cell_type": "markdown",
      "source": [
        "[Google Search](https://www.google.com)"
      ],
      "metadata": {
        "id": "cQtlxCsU9607"
      }
    },
    {
      "cell_type": "code",
      "source": [],
      "metadata": {
        "id": "2uLWPr1M9d_T"
      },
      "execution_count": null,
      "outputs": []
    },
    {
      "cell_type": "markdown",
      "source": [
        "\n",
        "\n",
        "\n",
        "\n",
        "1.   first\n",
        "2.   second\n",
        "3.   third\n",
        "\n",
        "fkfsksfadlfsalfas\n",
        "\n",
        "> dkdkidneisl block\n",
        "\n",
        "\n",
        "gkdlslsls\n",
        "\n",
        "\n",
        "\n",
        "\n",
        "\n",
        "\n",
        "\n",
        "\n"
      ],
      "metadata": {
        "id": "nhqVv0nW-QJL"
      }
    },
    {
      "cell_type": "code",
      "source": [],
      "metadata": {
        "id": "vwDIdlEz-pce"
      },
      "execution_count": null,
      "outputs": []
    },
    {
      "cell_type": "markdown",
      "source": [
        "Hello"
      ],
      "metadata": {
        "id": "bCNUl83u_X8O"
      }
    },
    {
      "cell_type": "code",
      "source": [],
      "metadata": {
        "id": "GKtFF0ZQ_cpr"
      },
      "execution_count": null,
      "outputs": []
    },
    {
      "cell_type": "markdown",
      "source": [
        "$ ax^2 + bx + c =0 $, the solution is"
      ],
      "metadata": {
        "id": "JjhZO98c_eGq"
      }
    },
    {
      "cell_type": "markdown",
      "source": [
        "$$ x1 = \\frac{-b + \\sqrt{b^2 - 4ac}}{2a} $$"
      ],
      "metadata": {
        "id": "mhJ6NIq-ABcS"
      }
    },
    {
      "cell_type": "code",
      "source": [],
      "metadata": {
        "id": "p6it7ThxALJH"
      },
      "execution_count": null,
      "outputs": []
    }
  ]
}